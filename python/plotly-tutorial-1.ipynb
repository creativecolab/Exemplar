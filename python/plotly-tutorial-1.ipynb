{
 "cells": [
  {
   "cell_type": "markdown",
   "metadata": {
    "_cell_guid": "e206b88c-e31b-4c6f-9cb4-a7f2de595b02",
    "_uuid": "37ff5b18b01e058ecbd9400ebe628d9ce219b5d9"
   },
   "source": [
    "<h1><center>PLOTLY TUTORIAL - 1</center></h1>\n",
    "***\n",
    "\n",
    "*Kaggle ML and Data Science Survey was live from August 7th to August 25th. The median time in the survey was 16.4 minutes. Respondents were allowed to complete the survey at any time.*\n",
    "\n",
    "*Since Kaggle is one of the best data science community, I would like to share main findings of the survey with interactive plotly library. I hope that recommendations of respondents help data enthusiasts.*\n",
    "\n",
    "*Let's deep dive into the world of data scientists!*\n",
    "\n",
    "**PLOTLY TUTORIAL - 2 (2015 Flight Delays and Cancellations):** https://www.kaggle.com/hakkisimsek/plotly-tutorial-2\n",
    "\n",
    "**PLOTLY TUTORIAL - 3 (S&P 500 Stock Data): **\n",
    "https://www.kaggle.com/hakkisimsek/plotly-tutorial-3\n",
    "\n",
    "**PLOTLY TUTORIAL - 4 (Google Store Customer Data): https://www.kaggle.com/hakkisimsek/plotly-tutorial-4**\n",
    "\n",
    "**PLOTLY TUTORIAL - 5 (Kaggle Survey 2018): https://www.kaggle.com/hakkisimsek/plotly-tutorial-5**\n",
    "\n",
    "<img src=\"https://cdn-images-1.medium.com/max/800/1*CNuxBDgp-Cb-VPfm9NAb-Q.png\">\n",
    "\n",
    "source: http://www.timqian.com/star-history/#bokeh/bokeh&plotly/dash"
   ]
  },
  {
   "cell_type": "code",
   "execution_count": 4,
   "metadata": {
    "_cell_guid": "e43d192e-b9a5-42c5-8625-6989463114e2",
    "_kg_hide-input": true,
    "_uuid": "300d27f026a5ceb60182623527a2c630e33148ca"
   },
   "outputs": [
    {
     "data": {
      "text/html": [
       "        <script type=\"text/javascript\">\n",
       "        window.PlotlyConfig = {MathJaxConfig: 'local'};\n",
       "        if (window.MathJax) {MathJax.Hub.Config({SVG: {font: \"STIX-Web\"}});}\n",
       "        if (typeof require !== 'undefined') {\n",
       "        require.undef(\"plotly\");\n",
       "        requirejs.config({\n",
       "            paths: {\n",
       "                'plotly': ['https://cdn.plot.ly/plotly-latest.min']\n",
       "            }\n",
       "        });\n",
       "        require(['plotly'], function(Plotly) {\n",
       "            window._Plotly = Plotly;\n",
       "        });\n",
       "        }\n",
       "        </script>\n",
       "        "
      ]
     },
     "metadata": {},
     "output_type": "display_data"
    }
   ],
   "source": [
    "import pandas as pd\n",
    "import seaborn as sns\n",
    "import matplotlib.pyplot as plt\n",
    "import numpy as np\n",
    "\n",
    "import plotly.offline as py\n",
    "py.init_notebook_mode(connected=True)\n",
    "import plotly.graph_objs as go\n",
    "from plotly import tools\n",
    "import plotly.figure_factory as ff\n",
    "\n",
    "import warnings\n",
    "warnings.filterwarnings('ignore')\n",
    "\n",
    "# from subprocess import check_output\n",
    "# print(check_output([\"ls\", \"../input\"]).decode(\"utf8\"))\n",
    "\n",
    "df = pd.read_csv('idea_shortset.csv')\n",
    "#mcr = pd.read_csv('../input/multipleChoiceResponses.csv',encoding='ISO-8859-1')\n",
    "#mcr.head()"
   ]
  },
  {
   "cell_type": "code",
   "execution_count": 5,
   "metadata": {},
   "outputs": [
    {
     "data": {
      "text/html": [
       "<div>\n",
       "<style scoped>\n",
       "    .dataframe tbody tr th:only-of-type {\n",
       "        vertical-align: middle;\n",
       "    }\n",
       "\n",
       "    .dataframe tbody tr th {\n",
       "        vertical-align: top;\n",
       "    }\n",
       "\n",
       "    .dataframe thead th {\n",
       "        text-align: right;\n",
       "    }\n",
       "</style>\n",
       "<table border=\"1\" class=\"dataframe\">\n",
       "  <thead>\n",
       "    <tr style=\"text-align: right;\">\n",
       "      <th></th>\n",
       "      <th>id</th>\n",
       "      <th>name</th>\n",
       "      <th>description</th>\n",
       "      <th>participants</th>\n",
       "      <th>looking_for</th>\n",
       "      <th>created_at</th>\n",
       "      <th>updated_at</th>\n",
       "      <th>volunteer_location</th>\n",
       "      <th>contact</th>\n",
       "      <th>highlight</th>\n",
       "      <th>...</th>\n",
       "      <th>accepting_volunteers</th>\n",
       "      <th>status</th>\n",
       "      <th>short_description</th>\n",
       "      <th>target_country</th>\n",
       "      <th>target_location</th>\n",
       "      <th>to_param</th>\n",
       "      <th>volunteered_users_count</th>\n",
       "      <th>project_type_list</th>\n",
       "      <th>skill_list</th>\n",
       "      <th>short_len</th>\n",
       "    </tr>\n",
       "  </thead>\n",
       "  <tbody>\n",
       "    <tr>\n",
       "      <th>0</th>\n",
       "      <td>175</td>\n",
       "      <td>Eleutherios</td>\n",
       "      <td>Eleutherios (https://eleutherios.org.nz) is a ...</td>\n",
       "      <td>Currently myself:\\r\\n\\r\\n- design (E/R model, ...</td>\n",
       "      <td>https://github.com/aletheon/eleutherios-alpha/...</td>\n",
       "      <td>2020-03-19 19:02:19.706000-07:00</td>\n",
       "      <td>2020-05-21 02:54:57.156000-07:00</td>\n",
       "      <td>remote</td>\n",
       "      <td>rob.kara@gmail.com</td>\n",
       "      <td>False</td>\n",
       "      <td>...</td>\n",
       "      <td>True</td>\n",
       "      <td>In progress</td>\n",
       "      <td>Circular supply chain</td>\n",
       "      <td>Global</td>\n",
       "      <td>NaN</td>\n",
       "      <td>175-eleutherios</td>\n",
       "      <td>2</td>\n",
       "      <td>['Job placement', 'Help out communities', 'Map...</td>\n",
       "      <td>['Software', 'Funding', 'Anything']</td>\n",
       "      <td>21</td>\n",
       "    </tr>\n",
       "    <tr>\n",
       "      <th>1</th>\n",
       "      <td>576</td>\n",
       "      <td>Stay Home Save Lives Challenge App</td>\n",
       "      <td>In the U.S. it is up to each state to enforce ...</td>\n",
       "      <td>Desi, Founder - Serial Entrepreneur\\r\\nJustin,...</td>\n",
       "      <td>We are looking for the following talented and ...</td>\n",
       "      <td>2020-04-05 00:03:30.775000-07:00</td>\n",
       "      <td>2020-04-12 14:12:31.716000-07:00</td>\n",
       "      <td>Remote</td>\n",
       "      <td>desijsaran@gmail.com</td>\n",
       "      <td>False</td>\n",
       "      <td>...</td>\n",
       "      <td>True</td>\n",
       "      <td>In progress</td>\n",
       "      <td>Make Us All Safe Again</td>\n",
       "      <td>Global</td>\n",
       "      <td>Anyone in the World Can Help</td>\n",
       "      <td>576-stay-home-save-lives-challenge-app</td>\n",
       "      <td>22</td>\n",
       "      <td>['E-Learning', 'Help out communities', 'Map vo...</td>\n",
       "      <td>['Analytics', 'Content', 'Data entry', 'Design...</td>\n",
       "      <td>22</td>\n",
       "    </tr>\n",
       "    <tr>\n",
       "      <th>2</th>\n",
       "      <td>383</td>\n",
       "      <td>Covid9teen.org (Updated: April 15, 2020)</td>\n",
       "      <td>tl;dr: \\r\\nSMS chatbot to prescreen potential ...</td>\n",
       "      <td>Myself:\\r\\nMachine Learning (MIT)\\r\\nEconomics...</td>\n",
       "      <td>Looking to expand:\\r\\n• Product (Whatsapp, Mes...</td>\n",
       "      <td>2020-03-26 00:06:16.594000-07:00</td>\n",
       "      <td>2020-04-15 14:06:14.262000-07:00</td>\n",
       "      <td>Remote</td>\n",
       "      <td>oliver@covid9teen.org</td>\n",
       "      <td>False</td>\n",
       "      <td>...</td>\n",
       "      <td>True</td>\n",
       "      <td>Launched</td>\n",
       "      <td>Text to Test for Covid19</td>\n",
       "      <td>Global</td>\n",
       "      <td>We partner with State/Provincial governments t...</td>\n",
       "      <td>383-covid9teen-org-updated-april-15-2020</td>\n",
       "      <td>27</td>\n",
       "      <td>['Track the outbreak', 'News and information',...</td>\n",
       "      <td>['Design', 'Software', 'Content']</td>\n",
       "      <td>24</td>\n",
       "    </tr>\n",
       "    <tr>\n",
       "      <th>3</th>\n",
       "      <td>638</td>\n",
       "      <td>Srishti Juyal</td>\n",
       "      <td>Spread awareness through social networking sites.</td>\n",
       "      <td>i am the only one</td>\n",
       "      <td>any kind of idea like poems stories any motiva...</td>\n",
       "      <td>2020-04-10 07:37:13.511000-07:00</td>\n",
       "      <td>2020-04-10 07:37:13.511000-07:00</td>\n",
       "      <td>tehri uttarakhand</td>\n",
       "      <td>NaN</td>\n",
       "      <td>False</td>\n",
       "      <td>...</td>\n",
       "      <td>True</td>\n",
       "      <td>Just started</td>\n",
       "      <td>Spread awareness in India</td>\n",
       "      <td>IN</td>\n",
       "      <td>NaN</td>\n",
       "      <td>638-srishti-juyal</td>\n",
       "      <td>8</td>\n",
       "      <td>['News and information']</td>\n",
       "      <td>['Design', 'Volunteer vetting', 'QA', 'Softwar...</td>\n",
       "      <td>25</td>\n",
       "    </tr>\n",
       "    <tr>\n",
       "      <th>4</th>\n",
       "      <td>622</td>\n",
       "      <td>Shivansh Singh</td>\n",
       "      <td>chat bot on COVID-19 Virus , made with the hel...</td>\n",
       "      <td>indivisual project</td>\n",
       "      <td>NaN</td>\n",
       "      <td>2020-04-08 22:34:30.669000-07:00</td>\n",
       "      <td>2020-04-08 22:34:30.669000-07:00</td>\n",
       "      <td>no</td>\n",
       "      <td>shivanshbhadouria7@gmail.com</td>\n",
       "      <td>False</td>\n",
       "      <td>...</td>\n",
       "      <td>False</td>\n",
       "      <td>Launched</td>\n",
       "      <td>chat bot on COVID-19 Virus</td>\n",
       "      <td>IN</td>\n",
       "      <td>Ghaziabad</td>\n",
       "      <td>622-shivansh-singh</td>\n",
       "      <td>0</td>\n",
       "      <td>['E-Learning', 'Reduce spread', 'Track the out...</td>\n",
       "      <td>[]</td>\n",
       "      <td>26</td>\n",
       "    </tr>\n",
       "  </tbody>\n",
       "</table>\n",
       "<p>5 rows × 23 columns</p>\n",
       "</div>"
      ],
      "text/plain": [
       "    id                                      name  \\\n",
       "0  175                               Eleutherios   \n",
       "1  576        Stay Home Save Lives Challenge App   \n",
       "2  383  Covid9teen.org (Updated: April 15, 2020)   \n",
       "3  638                             Srishti Juyal   \n",
       "4  622                            Shivansh Singh   \n",
       "\n",
       "                                         description  \\\n",
       "0  Eleutherios (https://eleutherios.org.nz) is a ...   \n",
       "1  In the U.S. it is up to each state to enforce ...   \n",
       "2  tl;dr: \\r\\nSMS chatbot to prescreen potential ...   \n",
       "3  Spread awareness through social networking sites.   \n",
       "4  chat bot on COVID-19 Virus , made with the hel...   \n",
       "\n",
       "                                        participants  \\\n",
       "0  Currently myself:\\r\\n\\r\\n- design (E/R model, ...   \n",
       "1  Desi, Founder - Serial Entrepreneur\\r\\nJustin,...   \n",
       "2  Myself:\\r\\nMachine Learning (MIT)\\r\\nEconomics...   \n",
       "3                                  i am the only one   \n",
       "4                                 indivisual project   \n",
       "\n",
       "                                         looking_for  \\\n",
       "0  https://github.com/aletheon/eleutherios-alpha/...   \n",
       "1  We are looking for the following talented and ...   \n",
       "2  Looking to expand:\\r\\n• Product (Whatsapp, Mes...   \n",
       "3  any kind of idea like poems stories any motiva...   \n",
       "4                                                NaN   \n",
       "\n",
       "                         created_at                        updated_at  \\\n",
       "0  2020-03-19 19:02:19.706000-07:00  2020-05-21 02:54:57.156000-07:00   \n",
       "1  2020-04-05 00:03:30.775000-07:00  2020-04-12 14:12:31.716000-07:00   \n",
       "2  2020-03-26 00:06:16.594000-07:00  2020-04-15 14:06:14.262000-07:00   \n",
       "3  2020-04-10 07:37:13.511000-07:00  2020-04-10 07:37:13.511000-07:00   \n",
       "4  2020-04-08 22:34:30.669000-07:00  2020-04-08 22:34:30.669000-07:00   \n",
       "\n",
       "  volunteer_location                       contact  highlight  ...  \\\n",
       "0             remote            rob.kara@gmail.com      False  ...   \n",
       "1             Remote          desijsaran@gmail.com      False  ...   \n",
       "2             Remote         oliver@covid9teen.org      False  ...   \n",
       "3  tehri uttarakhand                           NaN      False  ...   \n",
       "4                 no  shivanshbhadouria7@gmail.com      False  ...   \n",
       "\n",
       "  accepting_volunteers        status           short_description  \\\n",
       "0                 True   In progress       Circular supply chain   \n",
       "1                 True   In progress      Make Us All Safe Again   \n",
       "2                 True      Launched    Text to Test for Covid19   \n",
       "3                 True  Just started   Spread awareness in India   \n",
       "4                False      Launched  chat bot on COVID-19 Virus   \n",
       "\n",
       "   target_country                                    target_location  \\\n",
       "0          Global                                                NaN   \n",
       "1          Global                       Anyone in the World Can Help   \n",
       "2          Global  We partner with State/Provincial governments t...   \n",
       "3              IN                                                NaN   \n",
       "4              IN                                          Ghaziabad   \n",
       "\n",
       "                                   to_param volunteered_users_count  \\\n",
       "0                           175-eleutherios                       2   \n",
       "1    576-stay-home-save-lives-challenge-app                      22   \n",
       "2  383-covid9teen-org-updated-april-15-2020                      27   \n",
       "3                         638-srishti-juyal                       8   \n",
       "4                        622-shivansh-singh                       0   \n",
       "\n",
       "                                   project_type_list  \\\n",
       "0  ['Job placement', 'Help out communities', 'Map...   \n",
       "1  ['E-Learning', 'Help out communities', 'Map vo...   \n",
       "2  ['Track the outbreak', 'News and information',...   \n",
       "3                           ['News and information']   \n",
       "4  ['E-Learning', 'Reduce spread', 'Track the out...   \n",
       "\n",
       "                                          skill_list  short_len  \n",
       "0                ['Software', 'Funding', 'Anything']         21  \n",
       "1  ['Analytics', 'Content', 'Data entry', 'Design...         22  \n",
       "2                  ['Design', 'Software', 'Content']         24  \n",
       "3  ['Design', 'Volunteer vetting', 'QA', 'Softwar...         25  \n",
       "4                                                 []         26  \n",
       "\n",
       "[5 rows x 23 columns]"
      ]
     },
     "execution_count": 5,
     "metadata": {},
     "output_type": "execute_result"
    }
   ],
   "source": [
    "df.head()"
   ]
  },
  {
   "cell_type": "markdown",
   "metadata": {
    "_cell_guid": "05ec690c-ec68-4556-a52d-a1f1db3db133",
    "_uuid": "d2e8a1eb42dd92acd661f1245bd3e6bfb6592d09"
   },
   "source": [
    "**The tech world seems still a man's world.**"
   ]
  },
  {
   "cell_type": "code",
   "execution_count": null,
   "metadata": {
    "_cell_guid": "7b733b1f-0421-4b25-b222-50f234096380",
    "_kg_hide-input": true,
    "_uuid": "1f48c9b50e550b65ee8ca24b5c827eb0a9552eef"
   },
   "outputs": [],
   "source": [
    "colors = ['aqua', 'lightgrey', 'lightgreen', '#D0F9B1', 'khaki', 'grey']\n",
    "mcr['GenderSelect'] = np.where(mcr['GenderSelect'] == \"Non-binary, genderqueer, or gender non-conforming\",'Non-binary',\n",
    "                             mcr['GenderSelect'])\n",
    "\n",
    "gender = mcr['GenderSelect'].value_counts()\n",
    "label = gender.index\n",
    "size = gender.values\n",
    "\n",
    "trace = go.Pie(labels=label, \n",
    "               values=size, \n",
    "               marker=dict(colors=colors))\n",
    "\n",
    "data = [trace]\n",
    "layout = go.Layout(title='Gender Distribution')\n",
    "\n",
    "fig = go.Figure(data=data, layout=layout)\n",
    "py.iplot(fig)"
   ]
  },
  {
   "cell_type": "markdown",
   "metadata": {
    "_cell_guid": "d38d6041-18f8-4f1e-b157-2cc91808dae6",
    "_uuid": "4a4ea574ae66ee3ac8b6ae31b82d75fd91f40b92"
   },
   "source": [
    "**Top five countries in 2017:**\n",
    "1. USA - 4197 participants\n",
    "2. India - 2704 participants\n",
    "3. Russia - 578 participants\n",
    "4. United Kingdom - 535  participants\n",
    "5. China - 471 participants\n",
    "\n",
    "**Top five countries in 2018:**\n",
    "1. USA - 4716 participants\n",
    "2. India - 4417 participants\n",
    "3. China - 1644 participants\n",
    "4. Russia - 879 participants\n",
    "5. Brazil - 736 participants"
   ]
  },
  {
   "cell_type": "code",
   "execution_count": null,
   "metadata": {
    "_cell_guid": "d5db0d54-bbcf-4c1a-a3cc-c85e062c0f5f",
    "_kg_hide-input": true,
    "_uuid": "775ef7f7ccdf5faa2b188b34626611e089e02c3b"
   },
   "outputs": [],
   "source": [
    "df = pd.DataFrame(mcr['Country'].value_counts())\n",
    "df['country'] = df.index\n",
    "df.columns = ['number', 'country']\n",
    "df = df.reset_index().drop('index', axis=1)\n",
    "\n",
    "data = [dict(\n",
    "        type = 'choropleth',\n",
    "        locations = df['country'],\n",
    "        locationmode = 'country names',\n",
    "        z = df['number'],\n",
    "        text = df['country'],\n",
    "        colorscale = [[0,\"rgb(5, 10, 172)\"],[0.35,\"rgb(40, 60, 190)\"],\n",
    "                      [0.5,\"rgb(70, 100, 245)\"],\n",
    "            [0.6,\"rgb(90, 120, 245)\"],[0.7,\"rgb(106, 137, 247)\"],\n",
    "                      [1,\"rgb(220, 220, 220)\"]],\n",
    "        autocolorscale = False,\n",
    "        reversescale = True,\n",
    "        marker = dict(\n",
    "            line = dict (\n",
    "                color = 'rgb(180,180,180)',\n",
    "                width = 0.5\n",
    "            ) \n",
    "        ),\n",
    "        colorbar = dict(\n",
    "            autotick = False,\n",
    "            tickprefix = '$',\n",
    "            title = 'Survey Respondents')\n",
    ")\n",
    "       ]\n",
    "\n",
    "layout = dict(\n",
    "    title = 'The Nationality of Respondents',\n",
    "    geo = dict(\n",
    "        showframe = False,\n",
    "        showcoastlines = True,\n",
    "        projection = dict(\n",
    "            type = 'Mercator')\n",
    "    )\n",
    ")\n",
    "\n",
    "fig = dict(data=data, layout=layout)\n",
    "py.iplot(fig, validate=False)"
   ]
  },
  {
   "cell_type": "markdown",
   "metadata": {
    "_uuid": "4e44e2d9795ffdefb55c879ca37bfb3b8c8048e4"
   },
   "source": [
    "**Age Distribution in 2017 (left) vs 2018 (right):**\n",
    "\n",
    "* 18-21: ** 7.2% - 12.7%**\n",
    "* 22-24: ** 14.9% - 21.5%**\n",
    "* 25-29: **25.9% - 25.8%**\n",
    "* 30-34: **18.5% - 15.8%**\n",
    "* 35-39: **12.6% - 9.4%**\n",
    "* 40-44: **7.7% - 5.7%**\n",
    "* 44+: **12.9% - 8.4%**"
   ]
  },
  {
   "cell_type": "code",
   "execution_count": null,
   "metadata": {
    "_cell_guid": "f8eee58b-4cd1-474c-8642-a8532f721ae5",
    "_kg_hide-input": true,
    "_uuid": "009f547612afbba1a748448bc54e19308365edc0"
   },
   "outputs": [],
   "source": [
    "mcr = mcr[(mcr['Age'] < 75) & (mcr['Age'] > 18)]\n",
    "\n",
    "age = round(mcr['Age'].value_counts(normalize=True), 4)\n",
    "trace = go.Bar(\n",
    "    x=age.index,\n",
    "    y=age.values,\n",
    "    marker=dict(\n",
    "        color = age.values,\n",
    "        colorscale='Reds',\n",
    "        showscale=True)\n",
    ")\n",
    "\n",
    "data = [trace]\n",
    "layout = go.Layout(title='Age distribution', \n",
    "                   yaxis = dict(title = '# of Respondents')\n",
    "                  )\n",
    "\n",
    "fig = go.Figure(data=data, layout=layout)\n",
    "fig['layout']['xaxis'].update(dict(title = 'Age', \n",
    "                                   tickfont = dict(size = 12)))\n",
    "py.iplot(fig)"
   ]
  },
  {
   "cell_type": "markdown",
   "metadata": {
    "_cell_guid": "129eaaf5-9262-41b0-8aaf-3bbb05b557de",
    "_uuid": "1cfdd8cf2e320e329fd0476bac2008272be56f14"
   },
   "source": [
    "**We can say that online courses (MOOC) are mainstream training platforms of data science.**"
   ]
  },
  {
   "cell_type": "code",
   "execution_count": null,
   "metadata": {
    "_cell_guid": "62f001df-6f0e-4133-b1fa-a5cdb10ae2e8",
    "_kg_hide-input": true,
    "_uuid": "393221c6074dee8d1e2bae22a0d2bd584792b8a8"
   },
   "outputs": [],
   "source": [
    "train = mcr['FirstTrainingSelect'].value_counts()\n",
    "label = train.index\n",
    "size = train.values\n",
    "colors = ['aqua', 'lightgrey', 'lightgreen', '#D0F9B1', 'khaki', 'grey']\n",
    "\n",
    "trace = go.Pie(labels=label, \n",
    "               values=size, \n",
    "               marker=dict(colors=colors)\n",
    "              )\n",
    "\n",
    "data = [trace]\n",
    "layout = go.Layout(title='First Training Platform',\n",
    "                   legend=dict(orientation=\"h\")\n",
    "                  )\n",
    "\n",
    "fig = go.Figure(data=data, layout=layout)\n",
    "py.iplot(fig)"
   ]
  },
  {
   "cell_type": "markdown",
   "metadata": {
    "_cell_guid": "4ab54e67-d547-48b8-8782-123271cacda6",
    "_uuid": "31fc2457ba51e7c62af8a1cecd365a77cdd0051a"
   },
   "source": [
    "**Coursera seems the leader of MOOCs thanks to Andrew NG's' [amazing machine learning courses](http://www.coursera.org/instructor/andrewng).**\n",
    "* **After learning basics of machine learning, people discover the world of Kaggle so although it is the last first learning platform in the above ranking, it is graded as the best learning platform. **\n",
    "* **Online courses and Stack & Overflow are preferred to textbooks and university courses. The changing face of education in the 21st century!**"
   ]
  },
  {
   "cell_type": "code",
   "execution_count": null,
   "metadata": {
    "_kg_hide-input": true,
    "_uuid": "67471e5abefbd069f1a4fe7d0d05eab2bfabd515"
   },
   "outputs": [],
   "source": [
    "course = mcr['CoursePlatformSelect'].str.split(',')\n",
    "course_set = []\n",
    "\n",
    "for i in course.dropna():\n",
    "    course_set.extend(i)\n",
    "courses = round(pd.Series(course_set).value_counts(normalize=True)[:5], 4).\\\n",
    "        sort_values(ascending = False).to_frame()  \n",
    "\n",
    "trace1 = go.Bar(\n",
    "    x=courses.index,\n",
    "    y=courses[0],\n",
    "    name='course',\n",
    "    marker=dict(\n",
    "        color=courses[0],\n",
    "        colorscale = \"Jet\"))\n",
    "\n",
    "learning = mcr['LearningPlatformSelect'].str.split(',')\n",
    "learning_set = []\n",
    "for i in learning.dropna():\n",
    "    learning_set.extend(i)\n",
    "learn = round(pd.Series(learning_set).value_counts(normalize=True)[:5], 4).\\\n",
    "        sort_values(ascending = False).to_frame()  \n",
    "trace2 = go.Bar(\n",
    "    x=learn.index,\n",
    "    y=learn[0],\n",
    "    name='platform',\n",
    "    marker=dict(\n",
    "        color=learn[0],\n",
    "        colorscale = \"Jet\")\n",
    ")\n",
    "\n",
    "fig = tools.make_subplots(rows=1, cols=2, subplot_titles=('Course Platforms', \n",
    "                                                          'Learning Platforms'))\n",
    "fig.append_trace(trace1, 1,1)\n",
    "fig.append_trace(trace2, 1,2)\n",
    "fig['layout'].update(height=500, width=820, \n",
    "                     title='Where to start & How to continue in DS?', \n",
    "                     showlegend=False)                        \n",
    "py.iplot(fig)"
   ]
  },
  {
   "cell_type": "markdown",
   "metadata": {
    "_cell_guid": "9fd5c597-78ad-45cf-883b-335727c32e06",
    "_uuid": "eacff604b6914006531c7a1fd4d7c8c284cf6ea7"
   },
   "source": [
    "**Basic laptop is enough to follow data science trends so hardware requirements is no excuse not to discover the world.**"
   ]
  },
  {
   "cell_type": "code",
   "execution_count": null,
   "metadata": {
    "_cell_guid": "716d34ab-2b5c-459d-bee8-b534f9707480",
    "_kg_hide-input": true,
    "_uuid": "825bf7e23260de1454f44d638b0f9c15128e1965"
   },
   "outputs": [],
   "source": [
    "hardware = mcr['HardwarePersonalProjectsSelect'].str.split(',')\n",
    "hardware_set = []\n",
    "for i in hardware.dropna():\n",
    "    hardware_set.extend(i)\n",
    "    hware = pd.Series(hardware_set).value_counts()[:6] \n",
    "    \n",
    "label = hware.index\n",
    "size = hware.values\n",
    "\n",
    "colors = ['#FEBFB3', 'skyblue', '#96D38C', '#D0F9B1', 'tan', 'lightgrey']\n",
    "\n",
    "trace = go.Pie(labels=label, \n",
    "               values=size, \n",
    "               marker=dict(colors=colors)\n",
    "              )\n",
    "\n",
    "data = [trace]\n",
    "layout = go.Layout(\n",
    "    title='Hardware Requirements', \n",
    "    legend=dict(orientation=\"h\")\n",
    ")\n",
    "\n",
    "fig = go.Figure(data=data, layout=layout)\n",
    "py.iplot(fig)"
   ]
  },
  {
   "cell_type": "markdown",
   "metadata": {
    "_cell_guid": "3efcc900-5c67-45aa-999a-f7aec41e296a",
    "_uuid": "859c7d91edf26dc5dc42b0fe33d8cb719f65ec0b"
   },
   "source": [
    "**The most wondering part of the survey is probably salaries. I think that there is no surprise in the ranking. However, before accepting a job offer,  I would recommend you to check [purchasing power parities](http://data.oecd.org/conversion/purchasing-power-parities-ppp.htm).** \n",
    "\n",
    "**Note: Although I calculate median salary that is more robust to outliers I dropped rate-adjusted monthly salaries less than 100 dollars more than 500.000 dollars for the following parts.**"
   ]
  },
  {
   "cell_type": "code",
   "execution_count": null,
   "metadata": {
    "_cell_guid": "31d45b5e-a072-45bc-abbd-d4a17a32b37f",
    "_kg_hide-input": true,
    "_uuid": "eadcc3b02a8a6857d67765f845f014454e6c0071"
   },
   "outputs": [],
   "source": [
    "mcr['CompensationAmount']=mcr['CompensationAmount'].str.replace(',','')\n",
    "mcr['CompensationAmount']=mcr['CompensationAmount'].str.replace('-','')\n",
    "\n",
    "salary=mcr[['CompensationAmount','CompensationCurrency','Country','JobSatisfaction',\n",
    "            'CurrentJobTitleSelect', 'Age','GenderSelect']].dropna()\n",
    "\n",
    "crates=pd.read_csv('../input/conversionRates.csv')\n",
    "crates.drop('Unnamed: 0', axis=1,inplace=True)\n",
    "salary=salary.merge(crates, left_on='CompensationCurrency', right_on='originCountry', how='left')\n",
    "salary['Salary']= pd.to_numeric(salary['CompensationAmount'])*salary['exchangeRate']\n",
    "\n",
    "us_salary = salary[(salary['Salary'] > 100) & (salary['Salary'] < 500000) & \n",
    "                   (salary['Country'] == 'United States')]\n",
    "non_us_salary = salary[(salary['Salary'] > 100) & (salary['Salary'] < 500000) & \n",
    "                       (~(salary['Country'] == 'United States'))]\n",
    "sal_coun=salary.groupby('Country')['Salary'].median().round(-2).sort_values(ascending=False)[:16].\\\n",
    "                                    to_frame()\n",
    "\n",
    "trace = go.Bar(\n",
    "    x=sal_coun.index,\n",
    "    y=sal_coun.Salary,\n",
    "    marker=dict(\n",
    "        color=sal_coun.Salary,\n",
    "        colorscale = 'Reds')\n",
    ")\n",
    "\n",
    "data = [trace]\n",
    "layout = go.Layout(\n",
    "    title='Top Countries with Highest Median Salaries', \n",
    "    yaxis = dict(title = 'Salary ($)')\n",
    ")\n",
    "\n",
    "fig = go.Figure(data=data, layout=layout)\n",
    "py.iplot(fig)"
   ]
  },
  {
   "cell_type": "markdown",
   "metadata": {
    "_cell_guid": "8f65ea80-dd3c-4680-bdd6-69a1911d9b76",
    "_uuid": "a3a6f0ae5527bb181ed3e0ffae229f84efa10434"
   },
   "source": [
    "**If you are a newbie, do not be in a hurry about salary, it increases. Learn as many new technologies as possible and be an active member of the data science community. **\n",
    "\n",
    "**Since there is a big wage gap between US & non-US countries, I analyze them seperately. Do not mix apples & oranges.**"
   ]
  },
  {
   "cell_type": "code",
   "execution_count": null,
   "metadata": {
    "_kg_hide-input": true,
    "_uuid": "b404b46b24f8e3675e5c920ef8bf145a4cf749ae"
   },
   "outputs": [],
   "source": [
    "us_group = us_salary.groupby('Age')['Salary'].median().to_frame()\n",
    "non_us_group = non_us_salary.groupby('Age')['Salary'].median().to_frame()\n",
    "\n",
    "trace0 = go.Scatter(\n",
    "    x = us_group.index,\n",
    "    y = us_group['Salary'].round(-2),\n",
    "    name = 'US',\n",
    "    mode='markers',\n",
    "    marker=dict(\n",
    "        size=9,\n",
    "        color = ('aqua')))\n",
    "\n",
    "trace1 = go.Scatter(\n",
    "    x = non_us_group.index,\n",
    "    y = non_us_group['Salary'].round(-2),\n",
    "    name = 'non-US',\n",
    "    mode='markers',\n",
    "    marker=dict(\n",
    "        size=9,\n",
    "        color = ('navy')))\n",
    "\n",
    "data = [trace0, trace1]\n",
    "layout = dict(title = 'The Median Salary by Age in US and Non-US Countries',\n",
    "              xaxis = dict(title = 'Age'),\n",
    "              yaxis = dict(title = 'Salary ($)')\n",
    "             )\n",
    "\n",
    "fig = dict(data=data, layout=layout)\n",
    "fig['layout']['xaxis'].update(dict(title = 'Age', tickfont = dict(size = 12)))\n",
    "py.iplot(fig)"
   ]
  },
  {
   "cell_type": "markdown",
   "metadata": {
    "_uuid": "61da2f79c2a41a982879d01702fdb385181da218"
   },
   "source": [
    "**Correlation does not imply causation but it seems that satisfaction and salary go hand in hand.**"
   ]
  },
  {
   "cell_type": "code",
   "execution_count": null,
   "metadata": {
    "_kg_hide-input": true,
    "_uuid": "14ae55665f89f1dd3a6176195d260ed1e308c260"
   },
   "outputs": [],
   "source": [
    "salary['JobSatisfaction'].replace({'10 - Highly Satisfied':'10','1 - Highly Dissatisfied':'0'\n",
    "                                    ,'I prefer not to share':np.NaN},inplace=True)\n",
    "\n",
    "salary.dropna(subset=['JobSatisfaction'], inplace=True)\n",
    "salary['JobSatisfaction']=salary['JobSatisfaction'].astype(int)"
   ]
  },
  {
   "cell_type": "code",
   "execution_count": null,
   "metadata": {
    "_kg_hide-input": true,
    "_uuid": "ef526b60d17f4bc2e2755cb0fc46b458137d790f"
   },
   "outputs": [],
   "source": [
    "salary_us = salary[salary.originCountry=='USD'].groupby('JobSatisfaction').Salary.mean().to_frame()\n",
    "salary_non_us = salary[salary.originCountry!='USD'].groupby('JobSatisfaction').Salary.mean().to_frame()\n",
    "\n",
    "trace0 = go.Scatter(\n",
    "    x=salary_us.index,\n",
    "    y=salary_us['Salary'].round(-2),\n",
    "    name = 'US',\n",
    "    mode='markers',\n",
    "    marker=dict(size=11,\n",
    "        color=('navy')\n",
    "               )\n",
    ")\n",
    "\n",
    "trace1 = go.Scatter(\n",
    "      x = salary_non_us.index,\n",
    "    y = salary_non_us['Salary'].round(-2),\n",
    "    name = 'non_US',\n",
    "    mode='markers',\n",
    "    marker=dict(size=11,\n",
    "        color = ('aqua')\n",
    "               )\n",
    ")\n",
    "\n",
    "data = [trace0, trace1]\n",
    "layout = dict(title = 'The Median Salary & Satisfaction in US & non-US Countries',\n",
    "              xaxis = dict(title = 'Job Satisfaction'),\n",
    "              yaxis = dict(title = 'Salary ($)')\n",
    "             )\n",
    "\n",
    "fig = dict(data=data, layout=layout)\n",
    "fig['layout']['xaxis'].update(dict(title = 'Job Satisfaction', \n",
    "                                   tickmode='linear',\n",
    "                                   tickfont = dict(size = 10)))\n",
    "py.iplot(fig)"
   ]
  },
  {
   "cell_type": "markdown",
   "metadata": {
    "_uuid": "414d34468f5e21094ffa6471f8eefdd886603ad9"
   },
   "source": [
    "**Let's combine age, job satisfaction and salary!**"
   ]
  },
  {
   "cell_type": "code",
   "execution_count": null,
   "metadata": {
    "_kg_hide-input": true,
    "_uuid": "7a7bef3066cde4a89ca867a1db3930adc96cc1a5"
   },
   "outputs": [],
   "source": [
    "salary = salary[salary.Salary<1000000]\n",
    "dat = salary[['Age','JobSatisfaction','Salary']]\n",
    "dat[\"index\"] = np.arange(len(dat))\n",
    "fig = ff.create_scatterplotmatrix(dat, diag='box', index='index',\n",
    "                                  colormap_type='cat',colormap='Jet',\n",
    "                                  height=800, width=800)\n",
    "py.iplot(fig)"
   ]
  },
  {
   "cell_type": "markdown",
   "metadata": {
    "_uuid": "2e6e0b1d2a95c6ae87ac8e4717fb326afeed1288"
   },
   "source": [
    "**It seems that there is no gender inequality in terms of salary in data science world.**"
   ]
  },
  {
   "cell_type": "code",
   "execution_count": null,
   "metadata": {
    "_kg_hide-input": true,
    "_uuid": "c895e15e5cb01fe21ca2832a3bbe98a8dcfc8db1"
   },
   "outputs": [],
   "source": [
    "male_salary = salary[salary['GenderSelect'] == 'Male']\n",
    "female_salary = salary[salary['GenderSelect'] == 'Female']\n",
    "male = male_salary.groupby('Age').Salary.mean().to_frame()\n",
    "female = female_salary.groupby('Age').Salary.mean().to_frame()\n",
    "\n",
    "trace0 = go.Scatter(\n",
    "    x = male.index,\n",
    "    y = male['Salary'].round(-2),\n",
    "    name = 'male',\n",
    "    line = dict(\n",
    "        color = 'aqua',\n",
    "        width = 2,\n",
    "        dash='dash')\n",
    ")\n",
    "\n",
    "trace1 = go.Scatter(\n",
    "      x = female.index,\n",
    "    y = female['Salary'].round(-2),\n",
    "    name = 'female',\n",
    "    line = dict(\n",
    "        color = 'navy',\n",
    "        width = 2,\n",
    "        dash = 'dash')\n",
    "    )\n",
    "\n",
    "data = [trace0, trace1]\n",
    "layout = dict(title = 'The Median Salary of Men & Women by Age',\n",
    "              xaxis = dict(title = 'Age'),\n",
    "              yaxis = dict(title = 'Salary ($)')\n",
    "             )\n",
    "\n",
    "fig = dict(data=data, layout=layout)\n",
    "fig['layout']['xaxis'].update(dict(title = 'Age', \n",
    "                                   tickfont = dict(size = 12)))\n",
    "py.iplot(fig)"
   ]
  },
  {
   "cell_type": "markdown",
   "metadata": {
    "_uuid": "09093941134ad4f52f822990bb7912c100d3e0d7"
   },
   "source": [
    "**But wait! After 60, there is something weird it could change all the picture. Maybe gender-gap?? Let's check box-plot!**"
   ]
  },
  {
   "cell_type": "code",
   "execution_count": null,
   "metadata": {
    "_kg_hide-input": true,
    "_uuid": "04015a7e88a52eda3b10687148ec80ff6cd002ad"
   },
   "outputs": [],
   "source": [
    "trace0 = go.Box(x=male_salary.Salary,name=\"Male\",fillcolor='navy')\n",
    "trace1 = go.Box(x=female_salary.Salary,name=\"Female\",fillcolor='lime')\n",
    "data = [trace0, trace1]\n",
    "py.iplot(data)"
   ]
  },
  {
   "cell_type": "markdown",
   "metadata": {
    "_uuid": "79a060894424d4a6e6bc32eaec3c2c0e1f9b4c86"
   },
   "source": [
    "**Yes, we are right to being suspicious. Median wage of male is higher than median wage of female.  \n",
    "Let's investigate gender inequality in US vs. Non-US.**"
   ]
  },
  {
   "cell_type": "code",
   "execution_count": null,
   "metadata": {
    "_kg_hide-input": true,
    "_uuid": "9549d31466c0ef6493d65b494e6cff56f66f141e"
   },
   "outputs": [],
   "source": [
    "male_us_salary = salary[(salary['GenderSelect'] == 'Male') & \n",
    "                        (salary.originCountry=='USD')]\n",
    "male_non_us_salary = salary[(salary['GenderSelect'] == 'Male')& \n",
    "                        (salary.originCountry!='USD')]\n",
    "female_us_salary = salary[(salary['GenderSelect'] == 'Female')& \n",
    "                        (salary.originCountry=='USD')]\n",
    "female_non_us_salary = salary[(salary['GenderSelect'] == 'Female')& \n",
    "                        (salary.originCountry!='USD')]\n",
    "male_us = male_us_salary.groupby('Age').Salary.mean().to_frame()\n",
    "male_nus = male_non_us_salary.groupby('Age').Salary.mean().to_frame()\n",
    "female_us = female_us_salary.groupby('Age').Salary.mean().to_frame()\n",
    "female_nus = female_non_us_salary.groupby('Age').Salary.mean().to_frame()\n",
    "\n",
    "trace0 = go.Scatter(\n",
    "    x = male_us.index,\n",
    "    y = male_us['Salary'].round(-2),\n",
    "    name = 'male',\n",
    "    mode='markers',\n",
    "    marker=dict(\n",
    "        size=8,\n",
    "        color = ('grey')\n",
    "    )\n",
    ")\n",
    "\n",
    "trace1 = go.Scatter(\n",
    "      x = female_us.index,\n",
    "    y = female_us['Salary'].round(-2),\n",
    "    name = 'female',\n",
    "    mode='markers',\n",
    "    marker=dict(\n",
    "        size=8,\n",
    "        color = ('red')\n",
    "    )\n",
    ")\n",
    "\n",
    "data = [trace0, trace1]\n",
    "layout = dict(title = 'The Median Salary of Men & Women by Age in US',\n",
    "              xaxis = dict(title = 'Age'),\n",
    "              yaxis = dict(title = 'Salary ($)')\n",
    "             )\n",
    "\n",
    "fig = dict(data=data, layout=layout)\n",
    "fig['layout']['xaxis'].update(dict(title = 'Age', \n",
    "                                   tickfont = dict(size = 12)))\n",
    "py.iplot(fig)\n",
    "\n",
    "trace0 = go.Scatter(\n",
    "    x = male_nus.index,\n",
    "    y = male_nus['Salary'].round(-2),\n",
    "    name = 'male',\n",
    "    mode='markers',\n",
    "    marker=dict(\n",
    "        size=8,\n",
    "        color = ('grey')\n",
    "    )\n",
    ")\n",
    "\n",
    "trace1 = go.Scatter(\n",
    "      x = female_nus.index,\n",
    "    y = female_nus['Salary'].round(-2),\n",
    "    name = 'female',\n",
    "    mode='markers',\n",
    "    marker=dict(\n",
    "        size=8,\n",
    "        color = ('red')\n",
    "    )\n",
    ")\n",
    "\n",
    "data = [trace0, trace1]\n",
    "layout = dict(title = 'The Median Salary of Men & Women by Age in non-US countries',\n",
    "              xaxis = dict(title = 'Age'),\n",
    "              yaxis = dict(title = 'Salary ($)')\n",
    "             )\n",
    "\n",
    "fig = dict(data=data, layout=layout)\n",
    "fig['layout']['xaxis'].update(dict(title = 'Age', \n",
    "                                   tickfont = dict(size = 12)))\n",
    "py.iplot(fig)"
   ]
  },
  {
   "cell_type": "markdown",
   "metadata": {
    "_uuid": "e3f14bfc3dedd3f7e4f1039377b32826db70c5e1"
   },
   "source": [
    "**It seems that women are underpaid after 35 and they are out of labor force especially after their 50s in non-US countries!!**\n",
    "\n",
    "**Let's investigate majors & titles. As expected, computer science, mathematics, statistics and engineering are leading degree majors in data science.**"
   ]
  },
  {
   "cell_type": "code",
   "execution_count": null,
   "metadata": {
    "_kg_hide-input": true,
    "_uuid": "d16fb5f5df9c9d3d607d883d4a46f4a01fc5ed87"
   },
   "outputs": [],
   "source": [
    "mcr = mcr[~(mcr['MajorSelect'] == 'Other')]\n",
    "mcr['MajorSelect'].replace({'Information technology, networking, or system administration':'IT, Network, System Admin', \n",
    "                      'Mathematics or statistics':'Math or stats',\n",
    "                      'Engineering (non-computer focused)':'Engineering (non-CS)',\n",
    "                      'IT, Network, System Admin':'IT-Network-System'}, inplace=True)\n",
    "\n",
    "ms = round(mcr.MajorSelect.value_counts(normalize=True).to_frame()[:8], 4)\n",
    "trace1 = go.Bar(\n",
    "    x=ms.index,\n",
    "    y=ms.MajorSelect,\n",
    "    marker=dict(color='orange')\n",
    ")\n",
    "\n",
    "mcr['CurrentJobTitleSelect'].replace({'Software Developer/Software Engineer':'Software Developer', \n",
    "                      'Machine Learning Engineer':'ML Engineer'}, inplace=True)\n",
    "cs = round(mcr.CurrentJobTitleSelect.value_counts(normalize=True).to_frame()[:8], 4)\n",
    "trace2 = go.Bar(\n",
    "    x=cs.index,\n",
    "    y=cs.CurrentJobTitleSelect,\n",
    "    marker=dict(color='navy')\n",
    ")\n",
    "\n",
    "fig = tools.make_subplots(rows=1, cols=2, subplot_titles=('Majors', 'Titles'))\n",
    "fig.append_trace(trace1, 1,1)\n",
    "fig.append_trace(trace2, 1,2)\n",
    "fig['layout'].update(height=500, width=820, title='Majors & Titles in Data Science World', \n",
    "                     showlegend=False)            \n",
    "py.iplot(fig)"
   ]
  },
  {
   "cell_type": "code",
   "execution_count": null,
   "metadata": {
    "_kg_hide-input": true,
    "_uuid": "bcd95872910f556ab3270ae58450a443f861412e"
   },
   "outputs": [],
   "source": [
    "def PieChart(column, title, limit):\n",
    "    male = mcr[mcr['GenderSelect'] == 'Male']\n",
    "    female = mcr[mcr['GenderSelect'] == 'Female']\n",
    "    count_male = male[column].value_counts()[:limit].reset_index()\n",
    "    count_female = female[column].value_counts()[:limit].reset_index()\n",
    "    color = ['red',  'navy',  'cyan', 'lightgrey','orange', 'gold','lightgreen', \n",
    "                            '#D0F9B1','tomato', 'tan']\n",
    "    \n",
    "    trace1 = go.Pie(labels=count_male['index'], \n",
    "                    values=count_male[column], \n",
    "                    name= \"male\", \n",
    "                    hole= .5, \n",
    "                    domain= {'x': [0, .48]},\n",
    "                   marker=dict(colors=color))\n",
    "\n",
    "    trace2 = go.Pie(labels=count_female['index'], \n",
    "                    values=count_female[column], \n",
    "                    name=\"female\", \n",
    "                    hole= .5,  \n",
    "                    domain= {'x': [.52, 1]})\n",
    "\n",
    "    layout = dict(title= title, font=dict(size=15), legend=dict(orientation=\"h\"),\n",
    "                  annotations = [\n",
    "                      dict(\n",
    "                          x=.20, y=.5,\n",
    "                          text='Male', \n",
    "                          showarrow=False,\n",
    "                          font=dict(size=20)\n",
    "                      ),\n",
    "                      dict(\n",
    "                          x=.81, y=.5,\n",
    "                          text='Female', \n",
    "                          showarrow=False,\n",
    "                          font=dict(size=20)\n",
    "                      )\n",
    "        ])\n",
    "\n",
    "    fig = dict(data=[trace1, trace2], layout=layout)\n",
    "    py.iplot(fig)"
   ]
  },
  {
   "cell_type": "code",
   "execution_count": null,
   "metadata": {
    "_kg_hide-input": true,
    "_uuid": "61d08cc1b171a645499fb0a006515a4c161bdd60"
   },
   "outputs": [],
   "source": [
    "PieChart('MajorSelect', \"Undergraduate Major\", 6)"
   ]
  },
  {
   "cell_type": "markdown",
   "metadata": {
    "_uuid": "f5d6f5f2290cef601609aee6046a6d8e9d873eff"
   },
   "source": [
    "**The rate of software engineers is higher in men than it is in women as in 2018 survey. **\n",
    "\n",
    "**The rate of data analyst is higher in women than it is in men as in 2018 survey. **"
   ]
  },
  {
   "cell_type": "code",
   "execution_count": null,
   "metadata": {
    "_kg_hide-input": true,
    "_uuid": "0a6d8f64382d0bcb23252d5514c132f4d77f50c8"
   },
   "outputs": [],
   "source": [
    "PieChart('CurrentJobTitleSelect', \"Job Title\", 6)"
   ]
  },
  {
   "cell_type": "markdown",
   "metadata": {
    "_cell_guid": "6753ba84-73da-4773-8f30-326161b7a032",
    "_uuid": "29b9914b767ff96c6b56774d3846a20dc926e2f6"
   },
   "source": [
    "* **Data scientists and machine learning engineers are not only highly paid, they also have higher job satisfaction.** \n",
    "* **Interestingly, even if researchers are underpaid, their job satisfaction is quite high compared to their salaries. That's why it is important to learn new things everyday.**"
   ]
  },
  {
   "cell_type": "code",
   "execution_count": null,
   "metadata": {
    "_cell_guid": "1b6cb87a-62a1-4da4-ab14-67aff93c1606",
    "_kg_hide-input": true,
    "_uuid": "ce4661dcf64ec11e2797d79f0c915849f5b3d5fe"
   },
   "outputs": [],
   "source": [
    "salary = salary[~(salary['CurrentJobTitleSelect'] == 'Other')]\n",
    "mcr = mcr[~(mcr['CurrentJobTitleSelect'] == 'Other')]\n",
    "\n",
    "f,ax=plt.subplots(1,2,figsize=(13, 8))\n",
    "sal_job=salary.groupby('CurrentJobTitleSelect')['Salary'].median().to_frame().sort_values(by='Salary'\n",
    "                                                         ,ascending=False)\n",
    "sns.barplot(sal_job.Salary,sal_job.index,facecolor=(0, 0, 0, 0), linewidth=3, \n",
    "              edgecolor=sns.color_palette(\"inferno\", 25), ax = ax[0])\n",
    "\n",
    "ax[0].set_title(\"Salaries & Job Titles\", fontsize=12)\n",
    "ax[0].set_xlabel('Salary ($)', fontsize=12)\n",
    "ax[0].set_ylabel('')\n",
    "ax[0].axvline(salary['Salary'].median(),linestyle='dashed', color = \"g\")\n",
    "ax[0].grid(color = 'silver',linestyle='--')\n",
    "\n",
    "satisfy=mcr.copy()\n",
    "satisfy['JobSatisfaction'].replace({'10 - Highly Satisfied':'10','1 - Highly Dissatisfied':'0'\n",
    "                                    ,'I prefer not to share':np.NaN},inplace=True)\n",
    "satisfy.dropna(subset=['JobSatisfaction'], inplace=True)\n",
    "satisfy['JobSatisfaction']=satisfy['JobSatisfaction'].astype(int)\n",
    "satisfy_job=satisfy.groupby(['CurrentJobTitleSelect'])['JobSatisfaction'].mean().sort_values(ascending=False).to_frame()\n",
    "sns.barplot(y=satisfy_job.index, x=satisfy_job.JobSatisfaction,facecolor=(0, 0, 0, 0), linewidth=3, \n",
    "              edgecolor=sns.color_palette(\"winter\", 20), ax = ax[1])\n",
    "\n",
    "ax[1].set_title(\"Satisfaction & Job Titles\", fontsize=12)\n",
    "ax[1].set_xlabel('Job Satisfaction (0-10)', fontsize =12)\n",
    "ax[1].set_ylabel('')\n",
    "ax[1].grid(color = 'silver',linestyle='--')\n",
    "plt.subplots_adjust(wspace=0.95)\n",
    "plt.show()"
   ]
  },
  {
   "cell_type": "markdown",
   "metadata": {
    "_cell_guid": "f56254ce-c138-4ccb-9b16-36c056d29d6f",
    "_uuid": "2fce28903c336608f3f4df99da5f063750aa3752"
   },
   "source": [
    "**Although experiences of most respondents in coding are lower than 5 years, employment rate is quite high.**"
   ]
  },
  {
   "cell_type": "code",
   "execution_count": null,
   "metadata": {
    "_cell_guid": "867c418c-e353-442e-9ea4-73fa0bf67f3b",
    "_kg_hide-input": true,
    "_uuid": "1dee34ff8d51cb6767e7d52067806ce009654f58"
   },
   "outputs": [],
   "source": [
    "mcr['EmploymentStatus']=np.where(mcr['EmploymentStatus'] =='Independent contractor, freelancer, or self-employed',\n",
    "                                                'Independent', mcr['EmploymentStatus'])\n",
    "emp = mcr['EmploymentStatus'].value_counts().head(6)\n",
    "labels = emp.index\n",
    "sizes = emp.values\n",
    "\n",
    "trace = go.Pie(labels=labels, \n",
    "               values=sizes, \n",
    "               marker=dict(colors=colors), \n",
    "               textposition = \"inside\")\n",
    "\n",
    "data = [trace]\n",
    "layout = go.Layout(\n",
    "    title='Employment Status')\n",
    "\n",
    "fig = go.Figure(data=data, layout=layout)\n",
    "py.iplot(fig)\n",
    "\n",
    "tenure = mcr['Tenure'].value_counts()[:5].sort_values(ascending = False).to_frame()  \n",
    "\n",
    "trace = go.Bar(\n",
    "    x=tenure.index,\n",
    "    y=tenure.Tenure,\n",
    "    marker=dict(\n",
    "            color=tenure.Tenure.values,\n",
    "        colorscale = 'Jet',\n",
    "        reversescale = True))\n",
    "\n",
    "data = [trace]\n",
    "layout = go.Layout(title='Experience in Coding', yaxis = dict(title = '# of Respondents'))\n",
    "\n",
    "fig = go.Figure(data=data, layout=layout)\n",
    "py.iplot(fig)"
   ]
  },
  {
   "cell_type": "markdown",
   "metadata": {
    "_cell_guid": "0badaa47-bc3b-4a46-8df6-dae968868ffe",
    "_uuid": "27cac2561be9cc55e3d7c65289a2586a70ee20a4"
   },
   "source": [
    "**[Social capital](http://www.investopedia.com/terms/s/socialcapital.asp) is probably the most important thing in the professional world regardless of sectors.**"
   ]
  },
  {
   "cell_type": "code",
   "execution_count": null,
   "metadata": {
    "_cell_guid": "69d9eecf-8491-44a6-8cc3-c4cd7f54b803",
    "_kg_hide-input": true,
    "_uuid": "0a68645646397e29c30036021b01df2b4e0980b9"
   },
   "outputs": [],
   "source": [
    "search = mcr['EmployerSearchMethod'].value_counts()\n",
    "label = search.index\n",
    "size = search.values\n",
    "\n",
    "trace = go.Pie(labels=label, \n",
    "               values=size, \n",
    "               marker=dict(colors=colors),\n",
    "               textposition = \"outside\")\n",
    "\n",
    "data = [trace]\n",
    "layout = go.Layout(\n",
    "    title='Job Search Method', \n",
    "    legend=dict(orientation=\"h\"))\n",
    "\n",
    "fig = go.Figure(data=data, layout=layout)\n",
    "py.iplot(fig)"
   ]
  },
  {
   "cell_type": "markdown",
   "metadata": {
    "_cell_guid": "17065cda-16ce-458a-8e10-067c603cc224",
    "_uuid": "d1cce76382e4797875528d28db873e3caa80393f"
   },
   "source": [
    "* **Experience from work in company related to ML and Kaggle competitions seem most important way to prove knowledge in data science. Although 60% of respondents have master or doctoral degree, degree is not considered as proof of knowledge in data science.** \n",
    "* **Github portfolio and certificates of online courses are even graded better than master and doctoral degree. But it is important to keep in mind that most respondents are employees, not employers.**"
   ]
  },
  {
   "cell_type": "code",
   "execution_count": null,
   "metadata": {
    "_kg_hide-input": true,
    "_uuid": "42ca4a6f8a31e1cef1a1a4576667c005c25ca66a"
   },
   "outputs": [],
   "source": [
    "educ = round(mcr['FormalEducation'].value_counts(normalize=True)[:5], 4).\\\n",
    "            sort_values(ascending = False).to_frame()  \n",
    "as_list = educ.index.tolist()\n",
    "idx = as_list.index(\"Some college/university study without earning a bachelor's degree\")\n",
    "as_list[idx] = 'University w/o degree'\n",
    "educ.index = as_list\n",
    "\n",
    "trace = go.Bar(\n",
    "    x=educ.index,\n",
    "    y=educ.FormalEducation,\n",
    "    marker=dict(\n",
    "        color=educ.FormalEducation.values,\n",
    "        colorscale = 'Jet',\n",
    "        reversescale = True))\n",
    "\n",
    "data = [trace]\n",
    "layout = go.Layout(\n",
    "    title='Education Status', \n",
    "    yaxis = dict(title = '# of Respondents'))\n",
    "\n",
    "fig = go.Figure(data=data, layout=layout)\n",
    "py.iplot(fig, filename=\"Edu\")\n",
    "\n",
    "PieChart('FormalEducation', \"Education\", 5)\n",
    "\n",
    "proof = mcr['ProveKnowledgeSelect'].value_counts()\n",
    "labels = proof.index\n",
    "sizes= proof.values\n",
    "\n",
    "trace = go.Pie(labels=labels, \n",
    "               values=sizes, \n",
    "               marker=dict(colors=colors), \n",
    "               textposition = \"inside\")\n",
    "\n",
    "data = [trace]\n",
    "layout = go.Layout(\n",
    "    title='Proof of Knowledge')\n",
    "\n",
    "fig = go.Figure(data=data, layout=layout)\n",
    "py.iplot(fig)"
   ]
  },
  {
   "cell_type": "markdown",
   "metadata": {
    "_cell_guid": "15526d54-25b2-44e4-8487-1969d73ba509",
    "_uuid": "dba98f05945dafe3f66f1439e5ca83977bc090b7"
   },
   "source": [
    "**It is critical to learn logistic regression, random forests and support vector machine. To learn math behind these algorithms to narrate non-technical audiences is  more critical.**"
   ]
  },
  {
   "cell_type": "code",
   "execution_count": null,
   "metadata": {
    "_cell_guid": "bf7fc8b4-a095-48f4-a7d1-ba03f5c022c2",
    "_kg_hide-input": true,
    "_uuid": "04fb0206207420cb8662523263af0a3af3fad60d"
   },
   "outputs": [],
   "source": [
    "f,ax = plt.subplots(1,2,figsize=(13, 8))\n",
    "\n",
    "skills = mcr['MLSkillsSelect'].str.split(',')\n",
    "skills_set = []\n",
    "for i in skills.dropna():\n",
    "    skills_set.extend(i)\n",
    "skill = pd.Series(skills_set).value_counts().sort_values(ascending = False)[:15].to_frame()  \n",
    "\n",
    "sns.barplot(skill[0], skill.index,facecolor=(0, 0, 0, 0), linewidth=3, \n",
    "              edgecolor=sns.color_palette(\"inferno\", 18), ax = ax[0])\n",
    "\n",
    "ax[0].set_title(\"Trend Skills in 2017\", fontsize=15)\n",
    "ax[0].set_xlabel('Number of respondents', fontsize=12)\n",
    "ax[0].grid(color = 'silver',linestyle='--')\n",
    "\n",
    "tool = mcr['MLTechniquesSelect'].str.split(',')\n",
    "tool_set = []\n",
    "for i in tool.dropna():\n",
    "    tool_set.extend(i)\n",
    "tool = pd.Series(tool_set).value_counts().sort_values(ascending = False)[:15].to_frame()  \n",
    "\n",
    "sns.barplot(tool[0], tool.index,facecolor=(0, 0, 0, 0), linewidth=3, \n",
    "              edgecolor=sns.color_palette(\"dark\", 18), ax = ax[1])\n",
    "\n",
    "ax[1].set_title(\"Trend Techniques in 2017\", fontsize=15)\n",
    "ax[1].set_xlabel('Number of respondents', fontsize=12)\n",
    "ax[1].grid(color = 'silver',linestyle='--')\n",
    "plt.subplots_adjust(wspace=1.2)\n",
    "plt.show()"
   ]
  },
  {
   "cell_type": "markdown",
   "metadata": {
    "_cell_guid": "c28837d5-f18e-451e-9a3f-64791c8add45",
    "_uuid": "12e3bf33766106f1e42921ee5a5f55754fabdcac"
   },
   "source": [
    "**2018 will be the year of Deep Learning!**"
   ]
  },
  {
   "cell_type": "code",
   "execution_count": null,
   "metadata": {
    "_cell_guid": "b766906e-d397-41ba-a349-00d6bf1cd700",
    "_kg_hide-input": true,
    "_uuid": "ae96d405e425fa6f7d6ae4bc5a939afa9e2793c8"
   },
   "outputs": [],
   "source": [
    "next_skills = mcr['MLMethodNextYearSelect'].str.split(',')\n",
    "next_skills_set = []\n",
    "for i in next_skills.dropna():\n",
    "    next_skills_set.extend(i)\n",
    "next_skill = pd.Series(next_skills_set).value_counts()[:8] \n",
    "\n",
    "label = (np.array(next_skill.index))\n",
    "size = next_skill.values\n",
    "\n",
    "trace = go.Pie(labels=label, \n",
    "               values=size, \n",
    "               marker=dict(colors=colors))\n",
    "\n",
    "data = [trace]\n",
    "layout = go.Layout(\n",
    "    title='Trend Methods in 2018')\n",
    "\n",
    "fig = go.Figure(data=data, layout=layout)\n",
    "py.iplot(fig)"
   ]
  },
  {
   "cell_type": "code",
   "execution_count": null,
   "metadata": {
    "_cell_guid": "83c52a60-18bc-42e3-bb99-3a03b5a2050e",
    "_kg_hide-input": true,
    "_uuid": "0da89098e5ee5fcfcfbadd7516c4342ac88e7373"
   },
   "outputs": [],
   "source": [
    "next_tool = mcr['MLToolNextYearSelect'].str.split(',')\n",
    "next_tool_set = []\n",
    "for i in next_tool.dropna():\n",
    "    next_tool_set.extend(i)\n",
    "next_tool = pd.Series(next_tool_set).value_counts()[:12]\n",
    "\n",
    "label = (np.array(next_tool.index))\n",
    "size = next_tool.values\n",
    "\n",
    "trace = go.Pie(labels=label, \n",
    "               values=size, \n",
    "               marker=dict(colors=colors))\n",
    "\n",
    "data = [trace]\n",
    "layout = go.Layout(\n",
    "    title='Trend Tools in 2018')\n",
    "\n",
    "fig = go.Figure(data=data, layout=layout)\n",
    "py.iplot(fig)"
   ]
  },
  {
   "cell_type": "markdown",
   "metadata": {
    "_cell_guid": "3aa0652e-975f-4b80-8869-2ec6a8d5860a",
    "_uuid": "fe8bf24454d0f2ca0c982b5b9301bf518772022f"
   },
   "source": [
    "**When you need to find data Kaggle, Socrata helps, when you need to share codes, git helps.**"
   ]
  },
  {
   "cell_type": "code",
   "execution_count": null,
   "metadata": {
    "_cell_guid": "30a902f9-5816-4b9b-8733-cc0c77c9d256",
    "_kg_hide-input": true,
    "_uuid": "3f5f2f64949c644ad8c473b61c5a2978ce8baf60"
   },
   "outputs": [],
   "source": [
    "plt.figure(figsize=(14,10))\n",
    "\n",
    "data = mcr['PublicDatasetsSelect'].str.split(',')\n",
    "data_set = []\n",
    "for i in data.dropna():\n",
    "    data_set.extend(i)\n",
    "data = pd.Series(data_set).value_counts().sort_values(ascending = False)[:15].to_frame()  \n",
    "\n",
    "colors2 = ['lime', 'navy', 'red', 'lightgreen', 'pink', 'lightblue', 'purple']\n",
    "plt.pie(data[0], labels=data.index, shadow = False, autopct='%1.1f%%', colors = colors2)     \n",
    "centre_circle = plt.Circle((0,0),0.80, fc='white' ,linewidth=1.25)\n",
    "fig = plt.gcf()\n",
    "fig.gca().add_artist(centre_circle)\n",
    "plt.axis('equal')\n",
    "plt.title('Dataset Platforms', fontsize =18)\n",
    "plt.show()"
   ]
  },
  {
   "cell_type": "code",
   "execution_count": null,
   "metadata": {
    "_cell_guid": "70ac3cf8-172f-4f1b-829b-46c1fb3193ec",
    "_kg_hide-input": true,
    "_uuid": "b538b83498c4f7760e2d95dcfa2d1279d3ddefcc"
   },
   "outputs": [],
   "source": [
    "plt.figure(figsize=(14, 10))\n",
    "\n",
    "code = mcr['WorkCodeSharing'].str.split(',')\n",
    "code_set = []\n",
    "for i in code.dropna():\n",
    "    code_set.extend(i)\n",
    "code = pd.Series(code_set).value_counts().sort_values(ascending = False)[:15].to_frame()  \n",
    "\n",
    "colors2 = ['lime', 'navy', 'red', 'lightgreen', 'pink', 'lightblue', 'purple']\n",
    "plt.pie(code[0], labels=code.index, shadow = False, autopct='%1.1f%%', colors=colors2)     \n",
    "centre_circle = plt.Circle((0,0),0.80, fc='white' ,linewidth=1.25)\n",
    "fig = plt.gcf()\n",
    "fig.gca().add_artist(centre_circle)\n",
    "plt.axis('equal')\n",
    "plt.title('Code Sharing Platforms', fontsize = 18)\n",
    "plt.show()"
   ]
  },
  {
   "cell_type": "markdown",
   "metadata": {
    "_cell_guid": "10569e42-a094-40ef-a0da-20cbe4a4bfba",
    "_uuid": "805ebba07f5a6462c11ee15cda8233dd9af6102a"
   },
   "source": [
    "**It would be great if we would download and build models on the famous iris data-set everyday but we should spend  our most time (%60-%70) to clean the data, not to build cool algorithms and models.**"
   ]
  },
  {
   "cell_type": "code",
   "execution_count": null,
   "metadata": {
    "_cell_guid": "1c8933e5-91d1-4e04-aa46-21fe5aaacc31",
    "_kg_hide-input": true,
    "_uuid": "9a906ee94dfad60cdb4c716fafc410fc1fad24a8"
   },
   "outputs": [],
   "source": [
    "challenge = mcr['WorkChallengesSelect'].str.split(',')\n",
    "challenge_set = []\n",
    "\n",
    "for i in challenge.dropna():\n",
    "    challenge_set.extend(i)\n",
    "challenges = pd.Series(challenge_set).value_counts()[:5]\n",
    "\n",
    "label = (np.array(challenges.index))\n",
    "size = challenges.values\n",
    "\n",
    "trace = go.Pie(labels=label, \n",
    "               values=size, \n",
    "               marker=dict(colors=colors))\n",
    "\n",
    "data = [trace]\n",
    "layout = go.Layout(\n",
    "    title='Challenges in Data Science', \n",
    "    legend=dict(orientation=\"h\"))\n",
    "\n",
    "fig = go.Figure(data=data, layout=layout)\n",
    "py.iplot(fig)"
   ]
  },
  {
   "cell_type": "markdown",
   "metadata": {
    "_cell_guid": "2a5f3250-b756-4cc3-ab3b-95149b513f0f",
    "_uuid": "bd7a8e7ebdf4e0967f9d07323fffe2ecb35b9e8c"
   },
   "source": [
    "* **There are two powerful tools and communities in data science: Python and R. Somehow it is hard to select which language a newbie starts in data science. Although  I am a big fan of Python, I would not give many comments in this section. **\n",
    "* **These graphs speak for themselves!**"
   ]
  },
  {
   "cell_type": "code",
   "execution_count": null,
   "metadata": {
    "_kg_hide-input": true,
    "_uuid": "e40b9b0b0a585674ac14281523b3018bbcd6b63c"
   },
   "outputs": [],
   "source": [
    "mcr=mcr.dropna(subset=['WorkToolsSelect'])\n",
    "Python=mcr[(mcr['WorkToolsSelect'].str.contains('Python'))&(~mcr['WorkToolsSelect'].str.contains('R'))]\n",
    "R=mcr[(~mcr['WorkToolsSelect'].str.contains('Python'))&(mcr['WorkToolsSelect'].str.contains('R'))]\n",
    "\n",
    "colors = ['cyan', 'gold', 'bisque', '#D0F9B1', 'tan', 'lightgrey', 'lightblue', 'lightgreen', 'c', \n",
    "          'wheat', 'tomato', 'y', 'cyan', 'bisque', 'tan']\n",
    "\n",
    "py_major = Python['MajorSelect'].value_counts()[:8]\n",
    "label = (np.array(py_major.index))\n",
    "size = py_major.values\n",
    "trace1 = go.Pie(labels=label, values=size, name='Python',marker=dict(colors=colors),domain  = dict(x = [0,.48]),hole = .2)\n",
    "\n",
    "r_major = R['MajorSelect'].value_counts()[:8]\n",
    "label = (np.array(r_major.index))\n",
    "size = r_major.values\n",
    "trace2 = go.Pie(labels=label, values=size, name='R',marker=dict(colors=colors),domain  = dict(x = [0.52,1]),hole = .2)\n",
    "\n",
    "data = [trace1,trace2]\n",
    "layout = go.Layout(\n",
    "        title='Majors of Respondents',annotations = [dict(text = \"Python Users\",\n",
    "                                                font = dict(size = 13),\n",
    "                                                showarrow = False,\n",
    "                                                x = .18, y = 1.1),\n",
    "                                           dict(text = \"R Users\",\n",
    "                                                font = dict(size = 13),\n",
    "                                                showarrow = False,\n",
    "                                                x = .8,y = 1.1\n",
    "                                               )\n",
    "                                                    ]\n",
    ")\n",
    "\n",
    "fig = go.Figure(data=data, layout=layout)\n",
    "py.iplot(fig)"
   ]
  },
  {
   "cell_type": "code",
   "execution_count": null,
   "metadata": {
    "_cell_guid": "bfa600ed-5880-497f-b5e8-faf759659b2e",
    "_kg_hide-input": true,
    "_uuid": "0432954851ffa4f7398167be3392da1794297157"
   },
   "outputs": [],
   "source": [
    "py_ind = Python['CurrentJobTitleSelect'].value_counts()[:12]\n",
    "f_py = py_ind.to_frame()\n",
    "as_list = f_py.index.tolist()\n",
    "idx = as_list.index('ML Engineer')\n",
    "as_list[idx] = 'ML Engineer'\n",
    "f_py.index = as_list\n",
    "\n",
    "trace = go.Bar(\n",
    "    x=f_py.index,\n",
    "    y=f_py.CurrentJobTitleSelect,\n",
    "    marker=dict(\n",
    "        color=f_py.CurrentJobTitleSelect,\n",
    "        colorscale = 'Jet',\n",
    "        reversescale = True)\n",
    ")\n",
    "\n",
    "data = [trace]\n",
    "layout = go.Layout(\n",
    "    title='Job Titles of Python Users', yaxis = dict(title = '# of Respondents')\n",
    ")\n",
    "\n",
    "fig = go.Figure(data=data, layout=layout)\n",
    "py.iplot(fig)"
   ]
  },
  {
   "cell_type": "code",
   "execution_count": null,
   "metadata": {
    "_cell_guid": "cbb54508-ce51-402c-97a2-05c7c0fef8e8",
    "_kg_hide-input": true,
    "_uuid": "045c6dbde57dc32dadb3bb7ae9ac1be167763001"
   },
   "outputs": [],
   "source": [
    "R_ind = R['CurrentJobTitleSelect'].value_counts()[:12]\n",
    "f_r = R_ind.to_frame()\n",
    "as_list = f_r.index.tolist()\n",
    "f_r.index = as_list\n",
    "\n",
    "trace = go.Bar(\n",
    "    x=f_r.index,\n",
    "    y=f_r.CurrentJobTitleSelect,\n",
    "    marker=dict(\n",
    "        color=f_r.CurrentJobTitleSelect,\n",
    "        colorscale = 'Viridis',\n",
    "        reversescale = True))\n",
    "\n",
    "data = [trace]\n",
    "layout = go.Layout(\n",
    "    title='Job Titles of R Users', yaxis = dict(title = '# of Respondents')\n",
    ")\n",
    "\n",
    "fig = go.Figure(data=data, layout=layout)\n",
    "py.iplot(fig)"
   ]
  },
  {
   "cell_type": "code",
   "execution_count": null,
   "metadata": {
    "_cell_guid": "894114dc-4eb2-4af9-8431-79047856f289",
    "_kg_hide-input": true,
    "_uuid": "91dd49af46461544d4544652c0b06d3c5069aab6"
   },
   "outputs": [],
   "source": [
    "Py_ind = Python['EmployerIndustry'].value_counts()[:12]\n",
    "\n",
    "trace = go.Scatter(\n",
    "    x=Py_ind.index,\n",
    "    y=Py_ind.values,\n",
    "    mode='markers',\n",
    "    marker=dict(\n",
    "        sizemode = 'diameter',\n",
    "        sizeref = 1,\n",
    "        size = 40,\n",
    "        color = Py_ind.values,\n",
    "        colorscale='Portland',\n",
    "        showscale=True)\n",
    ")\n",
    "\n",
    "data = [trace]\n",
    "layout = go.Layout(\n",
    "    title='Industries of Python users', yaxis = dict(title = '# of Respondents')\n",
    ")\n",
    "\n",
    "fig = go.Figure(data=data, layout=layout)\n",
    "py.iplot(fig)"
   ]
  },
  {
   "cell_type": "code",
   "execution_count": null,
   "metadata": {
    "_cell_guid": "710b690e-e769-46b9-9b60-4614e516fa29",
    "_kg_hide-input": true,
    "_uuid": "2636781f7fc6bcc8158c6ab472699d8f933c850a"
   },
   "outputs": [],
   "source": [
    "R_ind = R['EmployerIndustry'].value_counts()[:12]\n",
    "\n",
    "trace = go.Scatter(\n",
    "    x=R_ind.index,\n",
    "    y=R_ind.values,\n",
    "    mode='markers',\n",
    "    marker=dict(\n",
    "        symbol = 'triangle-up',\n",
    "        sizemode = 'diameter',\n",
    "        sizeref = 1,\n",
    "        size = 50,\n",
    "        color = R_ind.values,\n",
    "        colorscale='Portland',\n",
    "        showscale=True)\n",
    ")\n",
    "\n",
    "data = [trace]\n",
    "layout = go.Layout(\n",
    "    title='Industries of R users', yaxis = dict(title = '# of Respondents')\n",
    ")\n",
    "\n",
    "fig = go.Figure(data=data, layout=layout)\n",
    "py.iplot(fig)"
   ]
  },
  {
   "cell_type": "code",
   "execution_count": null,
   "metadata": {
    "_cell_guid": "e5c816ed-62f4-404a-abe9-0f565f512231",
    "_kg_hide-input": true,
    "_uuid": "b971d9d4c242a18c7791e2d1dbed2cddedc4564f"
   },
   "outputs": [],
   "source": [
    "data = Python['WorkDataTypeSelect'].str.split(',')\n",
    "data_set = []\n",
    "for i in data.dropna():\n",
    "    data_set.extend(i)\n",
    "r_datas = pd.Series(data_set).value_counts()[:10].sort_values(ascending = False).to_frame()  \n",
    "\n",
    "trace = go.Bar(\n",
    "    x=r_datas.index,\n",
    "    y=r_datas[0].values,\n",
    "    marker=dict(\n",
    "        color=r_datas[0],\n",
    "        colorscale = [[0, 'rgb(166,206,227)'], [0.25, 'rgb(31,120,180)'], \n",
    "                      [0.45, 'rgb(178,223,138)'], \n",
    "                      [0.65, 'rgb(51,160,44)'], [0.85, 'rgb(251,154,153)'], \n",
    "                      [1, 'rgb(227,26,28)']],\n",
    "        reversescale = True))\n",
    "\n",
    "data = [trace]\n",
    "layout = go.Layout(\n",
    "    title='Data Types Frequently Used by Python Users', \n",
    "    yaxis = dict(title = '# of Respondents')\n",
    ")\n",
    "\n",
    "fig = go.Figure(data=data, layout=layout)\n",
    "py.iplot(fig)"
   ]
  },
  {
   "cell_type": "code",
   "execution_count": null,
   "metadata": {
    "_cell_guid": "47171c9f-e63d-4ed0-928f-0411b9d9ebbc",
    "_kg_hide-input": true,
    "_uuid": "243319694ad0b87e2f519fb11d4c16eceaf59ae6"
   },
   "outputs": [],
   "source": [
    "data = R['WorkDataTypeSelect'].str.split(',')\n",
    "data_set = []\n",
    "for i in data.dropna():\n",
    "    data_set.extend(i)\n",
    "py_datas = pd.Series(data_set).value_counts()[:10].sort_values(ascending = False).to_frame()  \n",
    "\n",
    "trace = go.Bar(\n",
    "    x=py_datas.index,\n",
    "    y=py_datas[0].values,\n",
    "    marker=dict(\n",
    "        color=py_datas[0],\n",
    "        colorscale = 'Jet',\n",
    "        reversescale = True)\n",
    ")\n",
    "\n",
    "data = [trace]\n",
    "layout = go.Layout(\n",
    "    title='Data Types Frequently Used by R Users', \n",
    "    yaxis = dict(title = '# of Respondents')\n",
    ")\n",
    "\n",
    "fig = go.Figure(data=data, layout=layout)\n",
    "py.iplot(fig)"
   ]
  },
  {
   "cell_type": "code",
   "execution_count": null,
   "metadata": {
    "_cell_guid": "442b233f-38e2-4eca-b1f0-45326ff29df4",
    "_kg_hide-input": true,
    "_uuid": "fd90936a5a685e0489909340714462ac02b885b8"
   },
   "outputs": [],
   "source": [
    "fig, (ax1, ax2) = plt.subplots(1, 2, figsize=(14, 8))\n",
    "\n",
    "colors2 = ['skyblue', 'grey', '#96D38C', 'khaki', 'pink']\n",
    "temp=R['LanguageRecommendationSelect'].value_counts()[:5]\n",
    "labels = temp.index\n",
    "sizes = temp.values\n",
    "\n",
    "ax1.pie(sizes, labels=labels, shadow = False, autopct='%1.1f%%', \n",
    "        explode=(0, 0.15, 0, 0, 0), \n",
    "        colors = colors2)\n",
    "ax1.axis('equal')\n",
    "ax1.set_title('Recommendation of R users', fontsize = 15)\n",
    "\n",
    "colors2 = ['skyblue', 'pink', '#96D38C', 'khaki', 'grey']\n",
    "temp=Python['LanguageRecommendationSelect'].value_counts()[:5]\n",
    "labels = temp.index\n",
    "sizes = temp.values\n",
    "\n",
    "ax2.pie(sizes, labels=labels, shadow = False, autopct='%1.1f%%', \n",
    "        explode=(0, 0,0,0,0.15),\n",
    "        colors = colors2)\n",
    "ax2.axis('equal')\n",
    "ax2.set_title('Recommendation of Python users', fontsize = 15)\n",
    "plt.show()"
   ]
  },
  {
   "cell_type": "markdown",
   "metadata": {
    "_cell_guid": "cba1bc96-a5fd-4595-a372-3953b0fd875a",
    "_uuid": "1da3f93513aca6e72a8060874e01bf43506ddb8f"
   },
   "source": [
    "**If you decide which language you start with, these are most frequently used tools  by respondents at work.**"
   ]
  },
  {
   "cell_type": "code",
   "execution_count": null,
   "metadata": {
    "_cell_guid": "4928d42f-bef9-4bbd-9dd0-bb282086cfb1",
    "_kg_hide-input": true,
    "_uuid": "a981fa25edb940ce15073df00f9825fcc93d7823"
   },
   "outputs": [],
   "source": [
    "data = Python['WorkToolsSelect'].str.split(',')\n",
    "data_set = []\n",
    "for i in data.dropna():\n",
    "    data_set.extend(i)\n",
    "datas = pd.Series(data_set).value_counts()[1:10].sort_values(ascending = False).to_frame()  \n",
    "\n",
    "trace = go.Bar(\n",
    "    x=datas.index,\n",
    "    y=datas[0].values,\n",
    "    marker=dict(\n",
    "        color=datas[0],\n",
    "        colorscale = 'Jet',\n",
    "        reversescale = True)\n",
    ")\n",
    "\n",
    "data = [trace]\n",
    "layout = go.Layout(\n",
    "    title='Tools of Python Users at Work', yaxis = dict(title = '# of Respondents')\n",
    ")\n",
    "\n",
    "fig = go.Figure(data=data, layout=layout)\n",
    "py.iplot(fig)"
   ]
  },
  {
   "cell_type": "code",
   "execution_count": null,
   "metadata": {
    "_cell_guid": "d0ac1d20-d115-4417-bdbd-b3b2d568c6e2",
    "_kg_hide-input": true,
    "_uuid": "9866eafd1ad604702e00707c6716224ac6ce90d0"
   },
   "outputs": [],
   "source": [
    "data = R['WorkToolsSelect'].str.split(',')\n",
    "data_set = []\n",
    "for i in data.dropna():\n",
    "    data_set.extend(i)\n",
    "datas = pd.Series(data_set).value_counts()[1:10].sort_values(ascending = False).to_frame()  \n",
    "\n",
    "as_list = datas.index.tolist()\n",
    "idx = as_list.index('Microsoft Excel Data Mining')\n",
    "as_list[idx] = 'Excel Data Mining'\n",
    "datas.index = as_list\n",
    "\n",
    "trace = go.Bar(\n",
    "    x=datas.index,\n",
    "    y=datas[0].values,\n",
    "    marker=dict(\n",
    "        color=datas[0],\n",
    "        colorscale = 'Jet',\n",
    "        reversescale = True)\n",
    ")\n",
    "\n",
    "data = [trace]\n",
    "layout = go.Layout(\n",
    "    title='Tools of R Users at Work', yaxis = dict(title = '# of Respondents')\n",
    ")\n",
    "\n",
    "fig = go.Figure(data=data, layout=layout)\n",
    "py.iplot(fig)"
   ]
  },
  {
   "cell_type": "markdown",
   "metadata": {
    "_uuid": "d87045898fa8b65034ef08e84617dd1eabf2f44b"
   },
   "source": [
    "**Your feedback really matters - please share your thoughts and suggestions.**"
   ]
  }
 ],
 "metadata": {
  "kernelspec": {
   "display_name": "Python 3",
   "language": "python",
   "name": "python3"
  },
  "language_info": {
   "codemirror_mode": {
    "name": "ipython",
    "version": 3
   },
   "file_extension": ".py",
   "mimetype": "text/x-python",
   "name": "python",
   "nbconvert_exporter": "python",
   "pygments_lexer": "ipython3",
   "version": "3.7.6"
  }
 },
 "nbformat": 4,
 "nbformat_minor": 1
}
